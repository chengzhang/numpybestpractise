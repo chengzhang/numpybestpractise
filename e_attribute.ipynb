{
 "cells": [
  {
   "cell_type": "markdown",
   "id": "81822e3d",
   "metadata": {},
   "source": [
    "# 数组属性\n",
    "- 维数称为秩（rank）,秩就是轴的数量.\n",
    "- 轴（axis），也就是维度（dimensions）\n",
    "- axis=0，表示沿着第 0 轴进行操作，即对每一列进行操作\n",
    "- axis=1，表示沿着第1轴进行操作，即对每一行进行操作\n",
    "\n",
    "## 属性\n",
    "| 属性 | 说明 |\n",
    "| :--- | :--- |\n",
    "| 属性 | 说明 |\n",
    "| ndarray.ndim     | 秩，即轴的数量或维度的数量 |\n",
    "| ndarray.shape    | 数组的维度，对于矩阵，n 行 m 列 |\n",
    "| ndarray.size     | 数组元素的总个数，相当于 .shape 中 n*m 的值 |\n",
    "| ndarray.dtype    | ndarray 对象的元素类型 |\n",
    "| ndarray.itemsize | ndarray 对象中每个元素的大小，以字节为单位 |\n",
    "| ndarray.flags    | ndarray 对象的内存信息 |\n",
    "| ndarray.real     | ndarray元素的实部 |\n",
    "| ndarray.imag     | ndarray 元素的虚部 |\n",
    "| ndarray.data     |包含实际数组元素的缓冲区，由于一般通过数组的索引获取元素，所以通常不需要使用这个属性。|"
   ]
  },
  {
   "cell_type": "code",
   "execution_count": 1,
   "id": "c191b462",
   "metadata": {},
   "outputs": [],
   "source": [
    "import numpy as np"
   ]
  },
  {
   "cell_type": "markdown",
   "id": "3dfd3242",
   "metadata": {},
   "source": [
    "# ndim"
   ]
  },
  {
   "cell_type": "code",
   "execution_count": 3,
   "id": "a73b3d59",
   "metadata": {},
   "outputs": [
    {
     "name": "stdout",
     "output_type": "stream",
     "text": [
      "1\n",
      "3\n"
     ]
    }
   ],
   "source": [
    "a = np.arange(24)\n",
    "print(a.ndim)\n",
    "b = a.reshape(2, 4, 3)\n",
    "print(b.ndim)"
   ]
  },
  {
   "cell_type": "markdown",
   "id": "ad5494c4",
   "metadata": {},
   "source": [
    "# shape"
   ]
  },
  {
   "cell_type": "code",
   "execution_count": 4,
   "id": "597c2c8a",
   "metadata": {},
   "outputs": [
    {
     "data": {
      "text/plain": [
       "(2, 3)"
      ]
     },
     "execution_count": 4,
     "metadata": {},
     "output_type": "execute_result"
    }
   ],
   "source": [
    "a = np.array([[1, 2, 3], [4, 5, 6]])\n",
    "a.shape"
   ]
  },
  {
   "cell_type": "code",
   "execution_count": 5,
   "id": "b4baeeec",
   "metadata": {},
   "outputs": [
    {
     "data": {
      "text/plain": [
       "array([[1, 2, 3],\n",
       "       [4, 5, 6]])"
      ]
     },
     "execution_count": 5,
     "metadata": {},
     "output_type": "execute_result"
    }
   ],
   "source": [
    "a"
   ]
  },
  {
   "cell_type": "markdown",
   "id": "6d9ce7e0",
   "metadata": {},
   "source": [
    "# 改变 shape 的两种方式"
   ]
  },
  {
   "cell_type": "code",
   "execution_count": 7,
   "id": "827df17b",
   "metadata": {},
   "outputs": [
    {
     "data": {
      "text/plain": [
       "array([[1, 2],\n",
       "       [3, 4],\n",
       "       [5, 6]])"
      ]
     },
     "execution_count": 7,
     "metadata": {},
     "output_type": "execute_result"
    }
   ],
   "source": [
    "# 改变 shape, 直接给shape 赋值也可\n",
    "a.shape = (3, 2)\n",
    "a"
   ]
  },
  {
   "cell_type": "code",
   "execution_count": 12,
   "id": "f2a2eebb",
   "metadata": {},
   "outputs": [
    {
     "data": {
      "text/plain": [
       "array([[1, 2],\n",
       "       [3, 4],\n",
       "       [5, 6]])"
      ]
     },
     "execution_count": 12,
     "metadata": {},
     "output_type": "execute_result"
    }
   ],
   "source": [
    "# 改变 shape，使用 reshape 函数也可\n",
    "b = a.reshape(6)\n",
    "# 注意 a 没有变化，所以 reshape 函数不是一个原地操作\n",
    "a"
   ]
  },
  {
   "cell_type": "code",
   "execution_count": 13,
   "id": "8c0c5f1c",
   "metadata": {},
   "outputs": [
    {
     "data": {
      "text/plain": [
       "array([1, 2, 3, 4, 5, 6])"
      ]
     },
     "execution_count": 13,
     "metadata": {},
     "output_type": "execute_result"
    }
   ],
   "source": [
    "# b 是 reshape 的返回值，它才体现出来变化\n",
    "b"
   ]
  },
  {
   "cell_type": "markdown",
   "id": "322c999b",
   "metadata": {},
   "source": [
    "# itemsize\n",
    "单个元素所占的字节数"
   ]
  },
  {
   "cell_type": "code",
   "execution_count": 14,
   "id": "4666662d",
   "metadata": {},
   "outputs": [
    {
     "data": {
      "text/plain": [
       "1"
      ]
     },
     "execution_count": 14,
     "metadata": {},
     "output_type": "execute_result"
    }
   ],
   "source": [
    "x = np.array([1, 2, 3, 4, 5], dtype=np.int8) \n",
    "x.itemsize"
   ]
  },
  {
   "cell_type": "code",
   "execution_count": 15,
   "id": "5827b91d",
   "metadata": {},
   "outputs": [
    {
     "data": {
      "text/plain": [
       "8"
      ]
     },
     "execution_count": 15,
     "metadata": {},
     "output_type": "execute_result"
    }
   ],
   "source": [
    "np.array([1, 2, 3], dtype=np.float64).itemsize"
   ]
  },
  {
   "cell_type": "markdown",
   "id": "3054f80d",
   "metadata": {},
   "source": [
    "# flags\n",
    "数组对象的内存信息，包括: \n",
    "\n",
    "| 属性\t| 描述 |\n",
    "| :--- | :--- |\n",
    "| C_CONTIGUOUS (C)\t| 数据是在一个单一的C风格的连续段中 |\n",
    "| F_CONTIGUOUS (F)\t| 数据是在一个单一的Fortran风格的连续段中 |\n",
    "| OWNDATA (O)\t    | 数组拥有它所使用的内存或从另一个对象中借用它 | \n",
    "| WRITEABLE (W)\t    | 数据区域可以被写入，将该值设置为 False，则数据为只读 | \n",
    "| ALIGNED (A)\t    | 数据和所有元素都适当地对齐到硬件上 | \n",
    "| UPDATEIFCOPY (U)\t| 这个数组是其它数组的一个副本，当这个数组被释放时，原数组的内容将被更新 | "
   ]
  },
  {
   "cell_type": "code",
   "execution_count": 16,
   "id": "8c5de214",
   "metadata": {},
   "outputs": [
    {
     "data": {
      "text/plain": [
       "  C_CONTIGUOUS : True\n",
       "  F_CONTIGUOUS : True\n",
       "  OWNDATA : True\n",
       "  WRITEABLE : True\n",
       "  ALIGNED : True\n",
       "  WRITEBACKIFCOPY : False\n",
       "  UPDATEIFCOPY : False"
      ]
     },
     "execution_count": 16,
     "metadata": {},
     "output_type": "execute_result"
    }
   ],
   "source": [
    "np.array([1, 2, 3, 4, 5]).flags"
   ]
  },
  {
   "cell_type": "code",
   "execution_count": null,
   "id": "2b5ec682",
   "metadata": {},
   "outputs": [],
   "source": []
  }
 ],
 "metadata": {
  "kernelspec": {
   "display_name": "Python 3",
   "language": "python",
   "name": "python3"
  },
  "language_info": {
   "codemirror_mode": {
    "name": "ipython",
    "version": 3
   },
   "file_extension": ".py",
   "mimetype": "text/x-python",
   "name": "python",
   "nbconvert_exporter": "python",
   "pygments_lexer": "ipython3",
   "version": "3.8.8"
  }
 },
 "nbformat": 4,
 "nbformat_minor": 5
}

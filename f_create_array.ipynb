{
 "cells": [
  {
   "cell_type": "markdown",
   "id": "803486fd",
   "metadata": {},
   "source": [
    "# 创建数组\n",
    "## numpy.empty\n",
    "创建未经初始化的数组，所以数组中的值没有规律可言.\n",
    "\n",
    "numpy.empty(shape, dtype=float, order='C')"
   ]
  },
  {
   "cell_type": "code",
   "execution_count": 2,
   "id": "4de34fd5",
   "metadata": {},
   "outputs": [],
   "source": [
    "import numpy as np"
   ]
  },
  {
   "cell_type": "code",
   "execution_count": 4,
   "id": "e01a1003",
   "metadata": {},
   "outputs": [
    {
     "data": {
      "text/plain": [
       "array([[ 1152921504606846976, -3458755719996881581],\n",
       "       [                   3,                    0],\n",
       "       [                   0,      844424930131968]])"
      ]
     },
     "execution_count": 4,
     "metadata": {},
     "output_type": "execute_result"
    }
   ],
   "source": [
    "x = np.empty([3, 2], dtype=int)\n",
    "x"
   ]
  },
  {
   "cell_type": "markdown",
   "id": "7c854bba",
   "metadata": {},
   "source": [
    "# numpy.zeros\n",
    "全 0 填充\n",
    "\n",
    "numpy.zeros(shape, dtype=float, order='C')"
   ]
  },
  {
   "cell_type": "code",
   "execution_count": 5,
   "id": "44cd7380",
   "metadata": {},
   "outputs": [
    {
     "data": {
      "text/plain": [
       "array([0., 0., 0., 0., 0.])"
      ]
     },
     "execution_count": 5,
     "metadata": {},
     "output_type": "execute_result"
    }
   ],
   "source": [
    "np.zeros(5)"
   ]
  },
  {
   "cell_type": "code",
   "execution_count": 7,
   "id": "c9218ef7",
   "metadata": {},
   "outputs": [
    {
     "data": {
      "text/plain": [
       "array([0, 0, 0, 0, 0], dtype=int32)"
      ]
     },
     "execution_count": 7,
     "metadata": {},
     "output_type": "execute_result"
    }
   ],
   "source": [
    "np.zeros((5), dtype=np.int32)"
   ]
  },
  {
   "cell_type": "code",
   "execution_count": 8,
   "id": "58e836a9",
   "metadata": {},
   "outputs": [
    {
     "data": {
      "text/plain": [
       "array([0., 0., 0., 0., 0.])"
      ]
     },
     "execution_count": 8,
     "metadata": {},
     "output_type": "execute_result"
    }
   ],
   "source": [
    "# 这种多一个‘,’的shape有什么不同, 这个例子看不出来差别\n",
    "np.zeros((5,)) "
   ]
  },
  {
   "cell_type": "code",
   "execution_count": 9,
   "id": "dfbd30b5",
   "metadata": {},
   "outputs": [
    {
     "data": {
      "text/plain": [
       "array([[(0, 0.), (0, 0.)],\n",
       "       [(0, 0.), (0, 0.)]], dtype=[('x', '<i4'), ('y', '<f4')])"
      ]
     },
     "execution_count": 9,
     "metadata": {},
     "output_type": "execute_result"
    }
   ],
   "source": [
    "np.zeros((2, 2), dtype=[('x', 'i4'), ('y', 'f4')])"
   ]
  },
  {
   "cell_type": "markdown",
   "id": "f1ff026b",
   "metadata": {},
   "source": [
    "# numpy.ones\n",
    "全 1 填充 \n",
    "\n",
    "numpy.ones(shape, dtype=None, order='C')  # 默认类型还是 float"
   ]
  },
  {
   "cell_type": "code",
   "execution_count": 10,
   "id": "ab7ac09b",
   "metadata": {},
   "outputs": [
    {
     "data": {
      "text/plain": [
       "array([1., 1., 1., 1., 1.])"
      ]
     },
     "execution_count": 10,
     "metadata": {},
     "output_type": "execute_result"
    }
   ],
   "source": [
    "np.ones(5)"
   ]
  },
  {
   "cell_type": "code",
   "execution_count": 11,
   "id": "11fd3ceb",
   "metadata": {},
   "outputs": [
    {
     "data": {
      "text/plain": [
       "array([[1, 1],\n",
       "       [1, 1]])"
      ]
     },
     "execution_count": 11,
     "metadata": {},
     "output_type": "execute_result"
    }
   ],
   "source": [
    "np.ones([2, 2], dtype=int)"
   ]
  },
  {
   "cell_type": "markdown",
   "id": "c1b94532",
   "metadata": {},
   "source": [
    "# numpy.eye\n",
    "单位阵。对角线元素为1，其余元素为0"
   ]
  },
  {
   "cell_type": "code",
   "execution_count": 13,
   "id": "8c235844",
   "metadata": {},
   "outputs": [
    {
     "data": {
      "text/plain": [
       "array([[1., 0., 0., 0.],\n",
       "       [0., 1., 0., 0.],\n",
       "       [0., 0., 1., 0.],\n",
       "       [0., 0., 0., 1.]])"
      ]
     },
     "execution_count": 13,
     "metadata": {},
     "output_type": "execute_result"
    }
   ],
   "source": [
    "np.eye(4)"
   ]
  },
  {
   "cell_type": "code",
   "execution_count": null,
   "id": "4331aef0",
   "metadata": {},
   "outputs": [],
   "source": []
  }
 ],
 "metadata": {
  "kernelspec": {
   "display_name": "Python 3",
   "language": "python",
   "name": "python3"
  },
  "language_info": {
   "codemirror_mode": {
    "name": "ipython",
    "version": 3
   },
   "file_extension": ".py",
   "mimetype": "text/x-python",
   "name": "python",
   "nbconvert_exporter": "python",
   "pygments_lexer": "ipython3",
   "version": "3.8.8"
  }
 },
 "nbformat": 4,
 "nbformat_minor": 5
}

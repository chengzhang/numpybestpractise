{
 "cells": [
  {
   "cell_type": "markdown",
   "id": "5bf67023",
   "metadata": {},
   "source": [
    "# dtype 对象\n",
    "numpy.dtype(object, align, copy)\n",
    "- object - 要转换为的数据类型对象\n",
    "- align - 如果为 true，填充字段使其类似 C 的结构体。\n",
    "- copy - 复制 dtype 对象 ，如果为 false，则是对内置数据类型对象的引用"
   ]
  },
  {
   "cell_type": "code",
   "execution_count": 1,
   "id": "be83dbeb",
   "metadata": {},
   "outputs": [],
   "source": [
    "import numpy as np"
   ]
  },
  {
   "cell_type": "code",
   "execution_count": 2,
   "id": "fa8d236a",
   "metadata": {},
   "outputs": [
    {
     "data": {
      "text/plain": [
       "dtype('int32')"
      ]
     },
     "execution_count": 2,
     "metadata": {},
     "output_type": "execute_result"
    }
   ],
   "source": [
    "np.dtype(np.int32)"
   ]
  },
  {
   "cell_type": "code",
   "execution_count": 3,
   "id": "3a3ecc1a",
   "metadata": {},
   "outputs": [
    {
     "name": "stdout",
     "output_type": "stream",
     "text": [
      "int32\n"
     ]
    }
   ],
   "source": [
    "print(np.dtype(np.int32))"
   ]
  },
  {
   "cell_type": "code",
   "execution_count": 5,
   "id": "97cd69fa",
   "metadata": {},
   "outputs": [
    {
     "data": {
      "text/plain": [
       "dtype('int32')"
      ]
     },
     "execution_count": 5,
     "metadata": {},
     "output_type": "execute_result"
    }
   ],
   "source": [
    "# int8 int16 int32 int64 可以用字符串 i1 i2 i4 i8 代替，后者数字部分表示字节数\n",
    "np.dtype('i4')"
   ]
  },
  {
   "cell_type": "code",
   "execution_count": 6,
   "id": "30389ace",
   "metadata": {},
   "outputs": [
    {
     "data": {
      "text/plain": [
       "dtype('int32')"
      ]
     },
     "execution_count": 6,
     "metadata": {},
     "output_type": "execute_result"
    }
   ],
   "source": [
    "# 字节顺序. < 表示小端法，> 表示大端法\n",
    "np.dtype('<i4')"
   ]
  },
  {
   "cell_type": "markdown",
   "id": "a16aa1c1",
   "metadata": {},
   "source": [
    "## 结构类型"
   ]
  },
  {
   "cell_type": "code",
   "execution_count": 9,
   "id": "06278718",
   "metadata": {},
   "outputs": [
    {
     "data": {
      "text/plain": [
       "dtype([('name', 'S20'), ('age', 'i1'), ('marks', '<f4')])"
      ]
     },
     "execution_count": 9,
     "metadata": {},
     "output_type": "execute_result"
    }
   ],
   "source": [
    "student = np.dtype([('name', 'S20'), ('age', 'i1'), ('marks', 'f4')])\n",
    "student"
   ]
  },
  {
   "cell_type": "code",
   "execution_count": 10,
   "id": "208fe3b8",
   "metadata": {},
   "outputs": [
    {
     "data": {
      "text/plain": [
       "array([(b'abc', 21, 50.), (b'xyz', 18, 75.)],\n",
       "      dtype=[('name', 'S20'), ('age', 'i1'), ('marks', '<f4')])"
      ]
     },
     "execution_count": 10,
     "metadata": {},
     "output_type": "execute_result"
    }
   ],
   "source": [
    "np.array([('abc', 21, 50), ('xyz', 18, 75)], dtype=student)"
   ]
  },
  {
   "cell_type": "markdown",
   "id": "aa56aebb",
   "metadata": {},
   "source": [
    "# 内建类型对应的字符表示\n",
    "- b\t布尔型\n",
    "- i\t(有符号) 整型\n",
    "- u\t无符号整型 integer\n",
    "- f\t浮点型\n",
    "- c\t复数浮点型\n",
    "- m\ttimedelta（时间间隔）\n",
    "- M\tdatetime（日期时间）\n",
    "- O\t(Python) 对象\n",
    "- S, a\t(byte-)字符串\n",
    "- U\tUnicode\n",
    "- V\t原始数据 (void)"
   ]
  }
 ],
 "metadata": {
  "kernelspec": {
   "display_name": "Python 3",
   "language": "python",
   "name": "python3"
  },
  "language_info": {
   "codemirror_mode": {
    "name": "ipython",
    "version": 3
   },
   "file_extension": ".py",
   "mimetype": "text/x-python",
   "name": "python",
   "nbconvert_exporter": "python",
   "pygments_lexer": "ipython3",
   "version": "3.8.8"
  }
 },
 "nbformat": 4,
 "nbformat_minor": 5
}
